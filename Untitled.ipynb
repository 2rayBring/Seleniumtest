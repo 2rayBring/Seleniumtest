{
 "cells": [
  {
   "cell_type": "code",
   "execution_count": 51,
   "id": "0de100f6",
   "metadata": {},
   "outputs": [
    {
     "name": "stdout",
     "output_type": "stream",
     "text": [
      "multipart/mixed\n",
      "text/html\n",
      "application/octet-stream\n"
     ]
    }
   ],
   "source": [
    "import email\n",
    "import pandas as pd\n",
    "\n",
    "# Open the email message file\n",
    "with open(R\"C:\\Users\\tourayo\\OneDrive - Posten Norge\\Documents\\03 - Timpex uttrekk\\EmailMessages_1_2023\\Oversikt over transportmiddelbevegelser_1120827761.eml\", 'r') as f:\n",
    "    msg = email.message_from_file(f)\n",
    "\n",
    "# Iterate through the email message's attachments\n",
    "for part in msg.walk():\n",
    "    # Check if the attachment is a CSV file\n",
    "     print(part.get_content_type())\n",
    "       "
   ]
  },
  {
   "cell_type": "code",
   "execution_count": 17,
   "id": "898e49ca",
   "metadata": {},
   "outputs": [
    {
     "data": {
      "text/html": [
       "<div>\n",
       "<style scoped>\n",
       "    .dataframe tbody tr th:only-of-type {\n",
       "        vertical-align: middle;\n",
       "    }\n",
       "\n",
       "    .dataframe tbody tr th {\n",
       "        vertical-align: top;\n",
       "    }\n",
       "\n",
       "    .dataframe thead th {\n",
       "        text-align: right;\n",
       "    }\n",
       "</style>\n",
       "<table border=\"1\" class=\"dataframe\">\n",
       "  <thead>\n",
       "    <tr style=\"text-align: right;\">\n",
       "      <th></th>\n",
       "      <th>Oppdragsnummer</th>\n",
       "      <th>Linje i oppdrag</th>\n",
       "      <th>UN</th>\n",
       "      <th>NOS</th>\n",
       "      <th>Cyl/Bun</th>\n",
       "      <th>Net weight</th>\n",
       "      <th>ADR content</th>\n",
       "      <th>KG/L</th>\n",
       "      <th>Trenger nos?</th>\n",
       "    </tr>\n",
       "  </thead>\n",
       "  <tbody>\n",
       "    <tr>\n",
       "      <th>0</th>\n",
       "      <td>68900034.0</td>\n",
       "      <td>1.0</td>\n",
       "      <td>1001.0</td>\n",
       "      <td></td>\n",
       "      <td>1.0</td>\n",
       "      <td></td>\n",
       "      <td>5</td>\n",
       "      <td>L</td>\n",
       "      <td></td>\n",
       "    </tr>\n",
       "  </tbody>\n",
       "</table>\n",
       "</div>"
      ],
      "text/plain": [
       "  Oppdragsnummer Linje i oppdrag      UN NOS Cyl/Bun Net weight ADR content  \\\n",
       "0     68900034.0             1.0  1001.0         1.0                      5   \n",
       "\n",
       "  KG/L Trenger nos?  \n",
       "0    L               "
      ]
     },
     "execution_count": 17,
     "metadata": {},
     "output_type": "execute_result"
    }
   ],
   "source": [
    "import os\n",
    "import pandas as pd\n",
    "import streamlit as st\n",
    "import time\n",
    "from selenium import webdriver\n",
    "from selenium.webdriver.support.ui import WebDriverWait\n",
    "from selenium.webdriver.support import expected_conditions as EC\n",
    "from selenium.webdriver.common.by import By\n",
    "from selenium.webdriver.common.keys import Keys\n",
    "\n",
    "df = pd.read_excel(\"Input/Input.xlsx\", sheet_name=\"Linde\").fillna(\"\")\n",
    "df_filtered = pd.DataFrame(df.iloc[0]).T\n",
    "df_filtered"
   ]
  },
  {
   "cell_type": "code",
   "execution_count": 20,
   "id": "e95b6f52",
   "metadata": {},
   "outputs": [
    {
     "data": {
      "text/plain": [
       "'68900034'"
      ]
     },
     "execution_count": 20,
     "metadata": {},
     "output_type": "execute_result"
    }
   ],
   "source": [
    "str(int(df_filtered[\"Oppdragsnummer\"][0]))"
   ]
  },
  {
   "cell_type": "code",
   "execution_count": null,
   "id": "17fed28c",
   "metadata": {},
   "outputs": [],
   "source": []
  }
 ],
 "metadata": {
  "kernelspec": {
   "display_name": "Python 3 (ipykernel)",
   "language": "python",
   "name": "python3"
  },
  "language_info": {
   "codemirror_mode": {
    "name": "ipython",
    "version": 3
   },
   "file_extension": ".py",
   "mimetype": "text/x-python",
   "name": "python",
   "nbconvert_exporter": "python",
   "pygments_lexer": "ipython3",
   "version": "3.9.12"
  }
 },
 "nbformat": 4,
 "nbformat_minor": 5
}
